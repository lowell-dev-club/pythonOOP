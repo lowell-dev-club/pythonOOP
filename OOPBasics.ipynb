{
 "cells": [
  {
   "cell_type": "code",
   "execution_count": 118,
   "metadata": {},
   "outputs": [],
   "source": [
    "class Animals:\n",
    "    \n",
    "    def __init__(self, name, legs, color, habitat, diet):\n",
    "        self.name = name\n",
    "        self.legs = legs\n",
    "        self.color = color\n",
    "        self.habitat = habitat\n",
    "        self.diet = diet\n",
    "    \n",
    "    def __repr__(self): # to_string()\n",
    "        return f'Animal: {self.name} lives in {self.habitat} and is a {self.diet} and is {self.color} and has {self.legs} legs'\n",
    "    \n",
    "    def eat(self):\n",
    "        if self.diet == 'omvinvores':\n",
    "            typeOfFood = 'all foods'\n",
    "        elif self.diet == 'herbivores':\n",
    "            typeOfFood = 'plants'\n",
    "        else:\n",
    "            typeOfFood = 'meat'\n",
    "            \n",
    "        print(f'{self.name} goes to find {typeOfFood} and eats it')\n",
    "    \n",
    "    def move(self):\n",
    "        print(f'The {self.name} walks around the {self.habitat}')\n",
    "\n",
    "        \n",
    "class SeaAnimals(Animals):\n",
    "    \n",
    "    def __init__(self, name, fins, color, diet):\n",
    "        self.name = name\n",
    "        self.legs = 0\n",
    "        self.color = color\n",
    "        self.habitat = 'ocean'\n",
    "        self.diet = diet\n",
    "        self.fins = fins\n",
    "    \n",
    "    def __repr__(self): # to_string()\n",
    "        if self.fins:\n",
    "            fin = 'fins'\n",
    "        else:\n",
    "            fin = 'flapper'\n",
    "        return f'Animal: {self.name} lives in the {self.habitat} and is a {self.diet} and is {self.color} and has {fin}'\n",
    "\n",
    "    def move(self):\n",
    "        print(f'The {self.name} swims around the {self.habitat}')\n",
    "\n",
    "class Pet(Animals):\n",
    "    \n",
    "    def __init__(self, name, legs, color, diet, collar):\n",
    "        self.name = name\n",
    "        self.legs = legs\n",
    "        self.color = color\n",
    "        self.habitat = 'home'\n",
    "        self.diet = diet\n",
    "        self.collar = collar\n",
    "    \n",
    "    def lounge(self):\n",
    "        print(f'{self.name} lounges on the couch')\n",
    "\n",
    "class Dog(Pet):\n",
    "    \n",
    "    def __init__(self, name, legs, color, diet, collar):\n",
    "        self.habitat = 'home'\n",
    "        super().__init__(name, legs, color, diet, collar)\n",
    "    \n",
    "    def lounge(self):\n",
    "        print(f'Dogs lounge on the floor')\n",
    "    "
   ]
  },
  {
   "cell_type": "code",
   "execution_count": 119,
   "metadata": {},
   "outputs": [],
   "source": [
    "sardine = SeaAnimals('sardine', True, 'silver', 'omvinvores')"
   ]
  },
  {
   "cell_type": "code",
   "execution_count": 120,
   "metadata": {},
   "outputs": [],
   "source": [
    "garfield = Pet('cat', 4, 'orange', 'lasgana', True)"
   ]
  },
  {
   "cell_type": "code",
   "execution_count": 121,
   "metadata": {},
   "outputs": [],
   "source": [
    "giraffe = Animals('giraffe', 4, 'orange', 'savanah', 'herbivores')"
   ]
  },
  {
   "cell_type": "code",
   "execution_count": 122,
   "metadata": {},
   "outputs": [],
   "source": [
    "dog = Dog('dog', 4, 'brown', 'carnivore', True)"
   ]
  },
  {
   "cell_type": "code",
   "execution_count": 123,
   "metadata": {
    "scrolled": true
   },
   "outputs": [
    {
     "name": "stdout",
     "output_type": "stream",
     "text": [
      "The giraffe walks around the savanah\n"
     ]
    }
   ],
   "source": [
    "giraffe.move()"
   ]
  },
  {
   "cell_type": "code",
   "execution_count": 124,
   "metadata": {},
   "outputs": [
    {
     "name": "stdout",
     "output_type": "stream",
     "text": [
      "The sardine swims around the ocean\n"
     ]
    }
   ],
   "source": [
    "sardine.move()"
   ]
  },
  {
   "cell_type": "code",
   "execution_count": 125,
   "metadata": {},
   "outputs": [
    {
     "name": "stdout",
     "output_type": "stream",
     "text": [
      "The cat walks around the home\n"
     ]
    }
   ],
   "source": [
    "garfield.move()"
   ]
  },
  {
   "cell_type": "code",
   "execution_count": 126,
   "metadata": {},
   "outputs": [
    {
     "name": "stdout",
     "output_type": "stream",
     "text": [
      "cat lounges on the couch\n"
     ]
    }
   ],
   "source": [
    "garfield.lounge()"
   ]
  },
  {
   "cell_type": "code",
   "execution_count": 127,
   "metadata": {},
   "outputs": [
    {
     "name": "stdout",
     "output_type": "stream",
     "text": [
      "Dogs lounge on the floor\n"
     ]
    }
   ],
   "source": [
    "dog.lounge()"
   ]
  },
  {
   "cell_type": "code",
   "execution_count": 72,
   "metadata": {},
   "outputs": [],
   "source": [
    "monkey = Animals('monkey', 4, 'brown', 'jungle', 'omvinvores')"
   ]
  },
  {
   "cell_type": "code",
   "execution_count": 73,
   "metadata": {},
   "outputs": [],
   "source": [
    "giraffe = Animals('giraffe', 4, 'orange', 'savanah', 'herbivores')"
   ]
  },
  {
   "cell_type": "code",
   "execution_count": 74,
   "metadata": {},
   "outputs": [],
   "source": [
    "otherGiraffe = Animals('giraffe', 4, 'orange', 'savanah', 'herbivores')"
   ]
  },
  {
   "cell_type": "code",
   "execution_count": 39,
   "metadata": {},
   "outputs": [
    {
     "name": "stdout",
     "output_type": "stream",
     "text": [
      "monkey goes to find all foods and eats it\n"
     ]
    }
   ],
   "source": [
    "monkey.eat()"
   ]
  },
  {
   "cell_type": "code",
   "execution_count": 40,
   "metadata": {},
   "outputs": [
    {
     "name": "stdout",
     "output_type": "stream",
     "text": [
      "Animal: giraffe lives in savanah and is a herbivores and is orange and has 4 legs\n"
     ]
    }
   ],
   "source": [
    "print(giraffe)"
   ]
  },
  {
   "cell_type": "code",
   "execution_count": 41,
   "metadata": {},
   "outputs": [
    {
     "name": "stdout",
     "output_type": "stream",
     "text": [
      "giraffe goes to find plants and eats it\n"
     ]
    }
   ],
   "source": [
    "giraffe.eat()"
   ]
  },
  {
   "cell_type": "code",
   "execution_count": 42,
   "metadata": {},
   "outputs": [
    {
     "data": {
      "text/plain": [
       "'monkey'"
      ]
     },
     "execution_count": 42,
     "metadata": {},
     "output_type": "execute_result"
    }
   ],
   "source": [
    "monkey.name"
   ]
  },
  {
   "cell_type": "code",
   "execution_count": 43,
   "metadata": {},
   "outputs": [
    {
     "data": {
      "text/plain": [
       "'giraffe'"
      ]
     },
     "execution_count": 43,
     "metadata": {},
     "output_type": "execute_result"
    }
   ],
   "source": [
    "giraffe.name"
   ]
  },
  {
   "cell_type": "code",
   "execution_count": 44,
   "metadata": {},
   "outputs": [],
   "source": [
    "lists = [Animals('monkey', 4, 'brown', 'jungle', 'omvinvores'), Animals('giraffe', 4, 'orange', 'savanah', 'herbivores')]"
   ]
  },
  {
   "cell_type": "code",
   "execution_count": 45,
   "metadata": {},
   "outputs": [
    {
     "data": {
      "text/plain": [
       "[Animal: monkey lives in jungle and is a omvinvores and is brown and has 4 legs,\n",
       " Animal: giraffe lives in savanah and is a herbivores and is orange and has 4 legs]"
      ]
     },
     "execution_count": 45,
     "metadata": {},
     "output_type": "execute_result"
    }
   ],
   "source": [
    "lists"
   ]
  },
  {
   "cell_type": "code",
   "execution_count": 46,
   "metadata": {},
   "outputs": [
    {
     "name": "stdout",
     "output_type": "stream",
     "text": [
      "monkey goes to find all foods and eats it\n",
      "giraffe goes to find plants and eats it\n"
     ]
    }
   ],
   "source": [
    "for animal in lists:\n",
    "    animal.eat()"
   ]
  },
  {
   "cell_type": "code",
   "execution_count": 49,
   "metadata": {},
   "outputs": [
    {
     "data": {
      "text/plain": [
       "False"
      ]
     },
     "execution_count": 49,
     "metadata": {},
     "output_type": "execute_result"
    }
   ],
   "source": [
    "giraffe is otherGiraffe"
   ]
  },
  {
   "cell_type": "code",
   "execution_count": 55,
   "metadata": {},
   "outputs": [
    {
     "data": {
      "text/plain": [
       "<__main__.Animals at 0x1125afb10>"
      ]
     },
     "execution_count": 55,
     "metadata": {},
     "output_type": "execute_result"
    }
   ],
   "source": [
    "giraffe"
   ]
  },
  {
   "cell_type": "code",
   "execution_count": 56,
   "metadata": {},
   "outputs": [
    {
     "data": {
      "text/plain": [
       "<__main__.Animals at 0x1124f76d0>"
      ]
     },
     "execution_count": 56,
     "metadata": {},
     "output_type": "execute_result"
    }
   ],
   "source": [
    "otherGiraffe"
   ]
  },
  {
   "cell_type": "code",
   "execution_count": 128,
   "metadata": {},
   "outputs": [
    {
     "data": {
      "text/plain": [
       "True"
      ]
     },
     "execution_count": 128,
     "metadata": {},
     "output_type": "execute_result"
    }
   ],
   "source": [
    "giraffe is giraffe"
   ]
  },
  {
   "cell_type": "code",
   "execution_count": 129,
   "metadata": {},
   "outputs": [],
   "source": [
    "copyGiraffe = giraffe"
   ]
  },
  {
   "cell_type": "code",
   "execution_count": 130,
   "metadata": {},
   "outputs": [
    {
     "data": {
      "text/plain": [
       "True"
      ]
     },
     "execution_count": 130,
     "metadata": {},
     "output_type": "execute_result"
    }
   ],
   "source": [
    "copyGiraffe is giraffe"
   ]
  },
  {
   "cell_type": "code",
   "execution_count": null,
   "metadata": {},
   "outputs": [],
   "source": []
  }
 ],
 "metadata": {
  "kernelspec": {
   "display_name": "Python 3",
   "language": "python",
   "name": "python3"
  },
  "language_info": {
   "codemirror_mode": {
    "name": "ipython",
    "version": 3
   },
   "file_extension": ".py",
   "mimetype": "text/x-python",
   "name": "python",
   "nbconvert_exporter": "python",
   "pygments_lexer": "ipython3",
   "version": "3.7.7"
  }
 },
 "nbformat": 4,
 "nbformat_minor": 4
}
